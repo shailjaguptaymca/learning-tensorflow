{
 "cells": [
  {
   "cell_type": "code",
   "execution_count": null,
   "metadata": {},
   "outputs": [],
   "source": [
    "import tensorflow as tf\n",
    "import pandas as pd\n",
    "from sklearn import linear_model\n",
    "import numpy as np\n",
    "from sklearn.model_selection import train_test_split"
   ]
  },
  {
   "cell_type": "code",
   "execution_count": null,
   "metadata": {},
   "outputs": [],
   "source": [
    "COLUMNS = ['age','workclass', 'fnlwgt', 'education', 'education_num', \n",
    "           'marital','occupation', 'relationship', 'race', 'sex', \n",
    "           'capital_gain','capital_loss','hours_week','native_country',\n",
    "           'label']"
   ]
  },
  {
   "cell_type": "code",
   "execution_count": null,
   "metadata": {},
   "outputs": [],
   "source": [
    "#index-col=false remove first column\n",
    "df_train = pd.read_csv('Adult.csv', skipinitialspace=True, names = COLUMNS, index_col=False)\n",
    "df_test = pd.read_csv('Adult_Test.csv',skiprows = 1, skipinitialspace=True, names = COLUMNS, index_col=False)"
   ]
  },
  {
   "cell_type": "code",
   "execution_count": null,
   "metadata": {},
   "outputs": [],
   "source": [
    "df_train.head()\n",
    "#we interpret that my target value or label or y or class is a string of categorial class\n"
   ]
  },
  {
   "cell_type": "code",
   "execution_count": null,
   "metadata": {},
   "outputs": [],
   "source": [
    "print(df_train.shape, df_test.shape)\n",
    "print(df_train.dtypes)"
   ]
  },
  {
   "cell_type": "code",
   "execution_count": null,
   "metadata": {},
   "outputs": [],
   "source": [
    "#map the values >=50k with 0 and <=50k with 1\n",
    "#mapping is done using dictionary\n",
    "#this can also be done using get_Dummies\n",
    "label = {'<=50K': 0,'>50K': 1}\n",
    "#replace label[50k] or label['<=50k'] with its value, here 50k is a key and will pass tht value to dftrain .label according to dictionary\n",
    "df_train.label = [label[item] for item in df_train.label]\n",
    "label_t = {'<=50K.': 0,'>50K.': 1}\n",
    "df_test.label = [label_t[item] for item in df_test.label] "
   ]
  },
  {
   "cell_type": "code",
   "execution_count": null,
   "metadata": {},
   "outputs": [],
   "source": [
    "df_train.head()\n",
    "df_test.head()"
   ]
  },
  {
   "cell_type": "code",
   "execution_count": null,
   "metadata": {},
   "outputs": [],
   "source": [
    "#replace ? with nan and drop it\n",
    "df_train=df_train.replace('?',np.nan)\n",
    "df_train.dropna(inplace=True)\n",
    "df_test=df_test.replace('?',np.nan)\n",
    "df_test.dropna(inplace=True)"
   ]
  },
  {
   "cell_type": "code",
   "execution_count": null,
   "metadata": {},
   "outputs": [],
   "source": [
    "df_test.info()"
   ]
  },
  {
   "cell_type": "code",
   "execution_count": null,
   "metadata": {},
   "outputs": [],
   "source": [
    "#categorial columns from train set\n",
    "cat_vars=['workclass','education','marital','occupation','relationship','race','sex']\n",
    "for var in cat_vars:\n",
    "    cat_list=pd.get_dummies(df_train[var],prefix=var)\n",
    "    df_train = pd.concat([df_train,cat_list], axis = 1)\n",
    "#removing categorial data from test set\n",
    "cat_vars1=['workclass','education','marital','occupation','relationship','race','sex']\n",
    "for var in cat_vars:\n",
    "    cat_list=pd.get_dummies(df_test[var],prefix=var)\n",
    "    data=df_test.join(cat_list)\n",
    "    df_test=data"
   ]
  },
  {
   "cell_type": "code",
   "execution_count": null,
   "metadata": {},
   "outputs": [],
   "source": [
    "df_train.columns"
   ]
  },
  {
   "cell_type": "code",
   "execution_count": null,
   "metadata": {},
   "outputs": [],
   "source": [
    "df_train.head()"
   ]
  },
  {
   "cell_type": "code",
   "execution_count": null,
   "metadata": {},
   "outputs": [],
   "source": [
    "df_train.columns"
   ]
  },
  {
   "cell_type": "code",
   "execution_count": null,
   "metadata": {},
   "outputs": [],
   "source": [
    "df_train.head()"
   ]
  },
  {
   "cell_type": "code",
   "execution_count": null,
   "metadata": {},
   "outputs": [],
   "source": [
    "df_train=df_train.drop(['workclass','education','relationship','race','sex','native_country','marital','occupation'],axis=1)"
   ]
  },
  {
   "cell_type": "code",
   "execution_count": null,
   "metadata": {},
   "outputs": [],
   "source": [
    "df_test=df_test.drop(['workclass','education','marital','occupation','relationship','race','sex','native_country'],axis=1)"
   ]
  },
  {
   "cell_type": "code",
   "execution_count": null,
   "metadata": {},
   "outputs": [],
   "source": [
    "df_train.columns"
   ]
  },
  {
   "cell_type": "code",
   "execution_count": null,
   "metadata": {},
   "outputs": [],
   "source": [
    "x=df_train.drop(['label'],axis=1)\n",
    "y=df_train['label']\n",
    "xtrain,xtext,ytrain,ytest=train_test_split(x,y,test_size=0.2, random_state=1)\n",
    "\n",
    "#logistic Regression model will give prediction of y \n",
    "#log_reg=linear_model.LogisticRegression(c=4)\n",
    "#you can change C value\n",
    "log_reg=linear_model.LogisticRegression()\n",
    "log_reg.fit(xtrain,ytrain)\n",
    "log_reg.score(xtext,ytest)\n",
    "\n",
    "#confusion matrix\n",
    "ypred=log_reg.predict(xtext) \n",
    "from sklearn.metrics import confusion_matrix\n",
    "print(confusion_matrix(ytest,ypred))\n",
    "\n",
    "#to print precision recall\n",
    "from sklearn.metrics import classification_report\n",
    "print(classification_report(ytest,ypred))\n"
   ]
  },
  {
   "cell_type": "code",
   "execution_count": null,
   "metadata": {},
   "outputs": [],
   "source": [
    "x=df_train.drop(['label'],axis=1)\n",
    "y=df_train['label']"
   ]
  },
  {
   "cell_type": "code",
   "execution_count": null,
   "metadata": {},
   "outputs": [],
   "source": [
    "xtrain,xtext,ytrain,ytest=train_test_split(x,y,test_size=0.2, random_state=1)"
   ]
  },
  {
   "cell_type": "code",
   "execution_count": null,
   "metadata": {},
   "outputs": [],
   "source": [
    "log_reg=linear_model.LogisticRegression()\n",
    "log_reg.fit(xtrain,ytrain)"
   ]
  },
  {
   "cell_type": "code",
   "execution_count": null,
   "metadata": {},
   "outputs": [],
   "source": [
    "x.info()"
   ]
  },
  {
   "cell_type": "code",
   "execution_count": null,
   "metadata": {},
   "outputs": [],
   "source": []
  },
  {
   "cell_type": "code",
   "execution_count": null,
   "metadata": {},
   "outputs": [],
   "source": []
  },
  {
   "cell_type": "code",
   "execution_count": null,
   "metadata": {},
   "outputs": [],
   "source": [
    "x.shape"
   ]
  },
  {
   "cell_type": "code",
   "execution_count": null,
   "metadata": {},
   "outputs": [],
   "source": [
    "y.shape"
   ]
  },
  {
   "cell_type": "code",
   "execution_count": null,
   "metadata": {},
   "outputs": [],
   "source": [
    "print(df_train[\"label\"].value_counts())\n",
    "### The model will be correct in atleast 70% of the case\n",
    "print(df_test[\"label\"].value_counts())\n",
    "## Unbalanced label\n",
    "print(df_train.dtypes)"
   ]
  },
  {
   "cell_type": "code",
   "execution_count": null,
   "metadata": {},
   "outputs": [],
   "source": [
    "CONTI_FEATURES  = ['age', 'fnlwgt','capital_gain', 'education_num', 'capital_loss', 'hours_week']\n",
    "### Define the categorical list\n",
    "CATE_FEATURES = ['workclass', 'education', 'marital', 'occupation', 'relationship', 'race', 'sex', 'native_country']"
   ]
  },
  {
   "cell_type": "code",
   "execution_count": null,
   "metadata": {},
   "outputs": [],
   "source": [
    "def print_transformation(feature, continuous = True, size = 2): \n",
    "    #X = fc.numeric_column(feature)\n",
    "    ## Create feature name\n",
    "    feature_names = [\n",
    "    feature]\n",
    "\n",
    "    ## Create dict with the data\n",
    "    d = dict(zip(feature_names, [df_train[feature]]))\n",
    "\n",
    "    ## Convert age\n",
    "    if continuous == True:\n",
    "        c = tf.feature_column.numeric_column(feature)\n",
    "        feature_columns = [c]\n",
    "    else: \n",
    "        c = tf.feature_column.categorical_column_with_hash_bucket(feature, hash_bucket_size=size) \n",
    "        c_indicator = tf.feature_column.indicator_column(c)\n",
    "        feature_columns = [c_indicator]\n",
    "    \n",
    "## Use input_layer to print the value\n",
    "    input_layer = tf.feature_column.input_layer(\n",
    "        features=d,\n",
    "        feature_columns=feature_columns\n",
    "        )\n",
    "    ## Create lookup table\n",
    "    zero = tf.constant(0, dtype=tf.float32)\n",
    "    where = tf.not_equal(input_layer, zero)\n",
    "    ## Return lookup tble\n",
    "    indices = tf.where(where)\n",
    "    values = tf.gather_nd(input_layer, indices)\n",
    "    ## Initiate graph\n",
    "    sess = tf.Session()\n",
    "    ## Print value\n",
    "    print(sess.run(input_layer))\n",
    "print_transformation(feature = \"age\", continuous = True)"
   ]
  },
  {
   "cell_type": "code",
   "execution_count": null,
   "metadata": {},
   "outputs": [],
   "source": [
    "continuous_features = [tf.feature_column.numeric_column(k) for k in CONTI_FEATURES]"
   ]
  },
  {
   "cell_type": "code",
   "execution_count": null,
   "metadata": {},
   "outputs": [],
   "source": [
    "continuous_features."
   ]
  },
  {
   "cell_type": "code",
   "execution_count": null,
   "metadata": {},
   "outputs": [],
   "source": [
    "relationship = tf.feature_column.categorical_column_with_vocabulary_list(\n",
    "    'relationship', [\n",
    "        'Husband', 'Not-in-family', 'Wife', 'Own-child', 'Unmarried',\n",
    "        'Other-relative'])"
   ]
  },
  {
   "cell_type": "code",
   "execution_count": null,
   "metadata": {},
   "outputs": [],
   "source": [
    "categorical_features = [tf.feature_column.categorical_column_with_hash_bucket(k, hash_bucket_size=1000) for k in CATE_FEATURES]"
   ]
  },
  {
   "cell_type": "code",
   "execution_count": null,
   "metadata": {},
   "outputs": [],
   "source": [
    "categorical_features"
   ]
  },
  {
   "cell_type": "markdown",
   "metadata": {},
   "source": [
    "## Logistic Regression"
   ]
  },
  {
   "cell_type": "code",
   "execution_count": null,
   "metadata": {},
   "outputs": [],
   "source": [
    "# model = tf.estimator.LinearRegressor(\n",
    "# \n",
    "# model_dir=\"ongoing/train\", \n",
    "# feature_columns=categorical_features+ continuous_features)\n",
    "model = tf.estimator.LinearClassifier(\n",
    "    n_classes = 2,\n",
    "    model_dir=\"ongoing/train\", \n",
    "    feature_columns=categorical_features+ continuous_features)"
   ]
  },
  {
   "cell_type": "code",
   "execution_count": null,
   "metadata": {},
   "outputs": [],
   "source": [
    "FEATURES = ['age','workclass', 'fnlwgt', 'education', 'education_num', 'marital', 'occupation', 'relationship', 'race', 'sex', 'capital_gain', 'capital_loss', 'hours_week', 'native_country']\n",
    "LABEL= 'label'\n",
    "def get_input_fn(data_set, num_epochs=None, n_batch = 128, shuffle=True):\n",
    "    return tf.estimator.inputs.pandas_input_fn(\n",
    "       x=pd.DataFrame({k: data_set[k].values for k in FEATURES}),\n",
    "       y = pd.Series(data_set[LABEL].values),\n",
    "       batch_size=n_batch,   \n",
    "       num_epochs=num_epochs,\n",
    "       shuffle=shuffle)"
   ]
  },
  {
   "cell_type": "code",
   "execution_count": null,
   "metadata": {},
   "outputs": [],
   "source": [
    "model.train(input_fn=get_input_fn(df_train, \n",
    "                                      num_epochs=None,\n",
    "                                      n_batch = 128,\n",
    "                                      shuffle=False),\n",
    "                                      steps=1000)"
   ]
  },
  {
   "cell_type": "code",
   "execution_count": null,
   "metadata": {},
   "outputs": [],
   "source": [
    "model.evaluate(input_fn=get_input_fn(df_test, \n",
    "                                      num_epochs=1,\n",
    "                                      n_batch = 128,\n",
    "                                      shuffle=False),\n",
    "                                      steps=1000)"
   ]
  },
  {
   "cell_type": "code",
   "execution_count": null,
   "metadata": {},
   "outputs": [],
   "source": []
  }
 ],
 "metadata": {
  "kernelspec": {
   "display_name": "Python 3",
   "language": "python",
   "name": "python3"
  },
  "language_info": {
   "codemirror_mode": {
    "name": "ipython",
    "version": 3
   },
   "file_extension": ".py",
   "mimetype": "text/x-python",
   "name": "python",
   "nbconvert_exporter": "python",
   "pygments_lexer": "ipython3",
   "version": "3.6.5"
  }
 },
 "nbformat": 4,
 "nbformat_minor": 2
}
